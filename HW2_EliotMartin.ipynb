{
 "cells": [
  {
   "cell_type": "code",
   "execution_count": 53,
   "id": "1502f469",
   "metadata": {},
   "outputs": [],
   "source": [
    "import torch.nn as nn\n",
    "from torchvision.utils import save_image\n",
    "import torch\n",
    "import torch.nn as nn\n",
    "import torchvision.transforms as transforms\n",
    "import torch.optim as optim\n",
    "import torchvision.datasets as datasets\n",
    "import numpy as np\n",
    "import matplotlib\n",
    "from torch.utils.data import DataLoader\n",
    "from matplotlib import pyplot as plt\n",
    "from tqdm import tqdm\n",
    "matplotlib.style.use('ggplot')"
   ]
  },
  {
   "cell_type": "markdown",
   "id": "e59e55ee",
   "metadata": {},
   "source": [
    "[DCGAN Code Source](https://debuggercafe.com/dcgan-pytorch/)"
   ]
  },
  {
   "cell_type": "code",
   "execution_count": 42,
   "id": "febc29d4",
   "metadata": {},
   "outputs": [],
   "source": [
    "# generator\n",
    "class Generator(nn.Module):\n",
    "    def __init__(self, nz):\n",
    "        super(Generator, self).__init__()\n",
    "        self.nz = nz\n",
    "        self.main = nn.Sequential(\n",
    "            # nz will be the input to the first convolution\n",
    "            nn.ConvTranspose2d(\n",
    "                nz, 512, kernel_size=4, \n",
    "                stride=1, padding=0, bias=False),\n",
    "            nn.BatchNorm2d(512),\n",
    "            nn.ReLU(True),\n",
    "            nn.ConvTranspose2d(\n",
    "                512, 256, kernel_size=4, \n",
    "                stride=2, padding=1, bias=False),\n",
    "            nn.BatchNorm2d(256),\n",
    "            nn.ReLU(True),\n",
    "            nn.ConvTranspose2d(\n",
    "                256, 128, kernel_size=4, \n",
    "                stride=2, padding=1, bias=False),\n",
    "            nn.BatchNorm2d(128),\n",
    "            nn.ReLU(True),\n",
    "            nn.ConvTranspose2d(\n",
    "                128, 64, kernel_size=4, \n",
    "                stride=2, padding=1, bias=False),\n",
    "            nn.BatchNorm2d(64),\n",
    "            nn.ReLU(True),\n",
    "            nn.ConvTranspose2d(\n",
    "                64, 3, kernel_size=4, \n",
    "                stride=2, padding=1, bias=False),\n",
    "            nn.Tanh()\n",
    "        )\n",
    "    def forward(self, input):\n",
    "        return self.main(input)"
   ]
  },
  {
   "cell_type": "code",
   "execution_count": 44,
   "id": "a4b71078",
   "metadata": {},
   "outputs": [],
   "source": [
    "# discriminator\n",
    "class Discriminator(nn.Module):\n",
    "    def __init__(self):\n",
    "        super(Discriminator, self).__init__()\n",
    "        self.main = nn.Sequential(\n",
    "            nn.Conv2d(\n",
    "                3, 64, kernel_size=4, \n",
    "                stride=2, padding=1, bias=False),\n",
    "            nn.LeakyReLU(0.2, inplace=True),\n",
    "            nn.Conv2d(\n",
    "                64, 128, kernel_size=4, \n",
    "                stride=2, padding=1, bias=False),\n",
    "            nn.BatchNorm2d(128),\n",
    "            nn.LeakyReLU(0.2, inplace=True),\n",
    "            nn.Conv2d(\n",
    "                128, 256, kernel_size=4, \n",
    "                stride=2, padding=1, bias=False),\n",
    "            nn.BatchNorm2d(256),\n",
    "            nn.LeakyReLU(0.2, inplace=True),\n",
    "            nn.Conv2d(\n",
    "                256, 512, kernel_size=4, \n",
    "                stride=2, padding=1, bias=False),\n",
    "            nn.BatchNorm2d(512),\n",
    "            nn.LeakyReLU(0.2, inplace=True),\n",
    "            nn.Conv2d(\n",
    "                512, 1, kernel_size=4, \n",
    "                stride=1, padding=0, bias=False),\n",
    "            nn.Sigmoid()\n",
    "        )\n",
    "    def forward(self, input):\n",
    "        return self.main(input)"
   ]
  },
  {
   "cell_type": "code",
   "execution_count": 46,
   "id": "0461964e",
   "metadata": {},
   "outputs": [],
   "source": [
    "# set the computation device\n",
    "device = torch.device('cuda' if torch.cuda.is_available() else 'cpu')"
   ]
  },
  {
   "cell_type": "code",
   "execution_count": 47,
   "id": "d0f4f312",
   "metadata": {},
   "outputs": [],
   "source": [
    "def label_real(size):\n",
    "    \"\"\"\n",
    "    Fucntion to create real labels (ones)\n",
    "    :param size: batch size\n",
    "    :return real label vector\n",
    "    \"\"\"\n",
    "    data = torch.ones(size, 1)\n",
    "    return data.to(device)\n",
    "\n",
    "def label_fake(size):\n",
    "    \"\"\"\n",
    "    Fucntion to create fake labels (zeros)\n",
    "    :param size: batch size\n",
    "    :returns fake label vector\n",
    "    \"\"\"\n",
    "    data = torch.zeros(size, 1)\n",
    "    return data.to(device)"
   ]
  },
  {
   "cell_type": "code",
   "execution_count": 48,
   "id": "46d3d05c",
   "metadata": {},
   "outputs": [],
   "source": [
    "def create_noise(sample_size, nz):\n",
    "    \"\"\"\n",
    "    Fucntion to create noise\n",
    "    :param sample_size: fixed sample size or batch size\n",
    "    :param nz: latent vector size\n",
    "    :returns random noise vector\n",
    "    \"\"\"\n",
    "    return torch.randn(sample_size, nz, 1, 1).to(device)"
   ]
  },
  {
   "cell_type": "code",
   "execution_count": 54,
   "id": "a58ac8ff",
   "metadata": {},
   "outputs": [],
   "source": [
    "def save_generator_image(image, path):\n",
    "    \"\"\"\n",
    "    Function to save torch image batches\n",
    "    :param image: image tensor batch\n",
    "    :param path: path name to save image\n",
    "    \"\"\"\n",
    "    save_image(image, path, normalize=True)"
   ]
  },
  {
   "cell_type": "code",
   "execution_count": 55,
   "id": "4d8c95ae",
   "metadata": {},
   "outputs": [],
   "source": [
    "def weights_init(m):\n",
    "    \"\"\"\n",
    "    This function initializes the model weights randomly from a \n",
    "    Normal distribution. This follows the specification from the DCGAN paper.\n",
    "    https://arxiv.org/pdf/1511.06434.pdf\n",
    "    Source: https://pytorch.org/tutorials/beginner/dcgan_faces_tutorial.html\n",
    "    \"\"\"\n",
    "    classname = m.__class__.__name__\n",
    "    if classname.find('Conv') != -1:\n",
    "        nn.init.normal_(m.weight.data, 0.0, 0.02)\n",
    "    elif classname.find('BatchNorm') != -1:\n",
    "        nn.init.normal_(m.weight.data, 1.0, 0.02)\n",
    "        nn.init.constant_(m.bias.data, 0)"
   ]
  },
  {
   "cell_type": "code",
   "execution_count": 56,
   "id": "d5a23161",
   "metadata": {},
   "outputs": [],
   "source": [
    "# learning parameters / configurations according to paper\n",
    "image_size = 64 # we need to resize image to 64x64\n",
    "batch_size = 128\n",
    "nz = 100 # latent vector size\n",
    "beta1 = 0.5 # beta1 value for Adam optimizer\n",
    "lr = 0.0002 # learning rate according to paper\n",
    "sample_size = 64 # fixed sample size\n",
    "epochs = 25 # number of epoch to train"
   ]
  },
  {
   "cell_type": "code",
   "execution_count": 58,
   "id": "1243836e",
   "metadata": {},
   "outputs": [
    {
     "name": "stdout",
     "output_type": "stream",
     "text": [
      "Files already downloaded and verified\n"
     ]
    }
   ],
   "source": [
    "# image transforms\n",
    "transform = transforms.Compose([\n",
    "    transforms.Resize(image_size),\n",
    "    transforms.ToTensor(),\n",
    "    transforms.Normalize((0.5, 0.5, 0.5), \n",
    "    (0.5, 0.5, 0.5)),\n",
    "])\n",
    "\n",
    "# prepare the data\n",
    "train_data = datasets.CIFAR10(\n",
    "    root='./data',\n",
    "    train=True,\n",
    "    download=True,\n",
    "    transform=transform\n",
    ")\n",
    "train_loader = DataLoader(train_data, batch_size=batch_size, shuffle=True)"
   ]
  },
  {
   "cell_type": "code",
   "execution_count": 59,
   "id": "b2a76370",
   "metadata": {},
   "outputs": [],
   "source": [
    "generator = Generator(nz).to(device)\n",
    "discriminator = Discriminator().to(device) "
   ]
  },
  {
   "cell_type": "code",
   "execution_count": 61,
   "id": "45a49416",
   "metadata": {},
   "outputs": [
    {
     "data": {
      "text/plain": [
       "Generator(\n",
       "  (main): Sequential(\n",
       "    (0): ConvTranspose2d(100, 512, kernel_size=(4, 4), stride=(1, 1), bias=False)\n",
       "    (1): BatchNorm2d(512, eps=1e-05, momentum=0.1, affine=True, track_running_stats=True)\n",
       "    (2): ReLU(inplace=True)\n",
       "    (3): ConvTranspose2d(512, 256, kernel_size=(4, 4), stride=(2, 2), padding=(1, 1), bias=False)\n",
       "    (4): BatchNorm2d(256, eps=1e-05, momentum=0.1, affine=True, track_running_stats=True)\n",
       "    (5): ReLU(inplace=True)\n",
       "    (6): ConvTranspose2d(256, 128, kernel_size=(4, 4), stride=(2, 2), padding=(1, 1), bias=False)\n",
       "    (7): BatchNorm2d(128, eps=1e-05, momentum=0.1, affine=True, track_running_stats=True)\n",
       "    (8): ReLU(inplace=True)\n",
       "    (9): ConvTranspose2d(128, 64, kernel_size=(4, 4), stride=(2, 2), padding=(1, 1), bias=False)\n",
       "    (10): BatchNorm2d(64, eps=1e-05, momentum=0.1, affine=True, track_running_stats=True)\n",
       "    (11): ReLU(inplace=True)\n",
       "    (12): ConvTranspose2d(64, 3, kernel_size=(4, 4), stride=(2, 2), padding=(1, 1), bias=False)\n",
       "    (13): Tanh()\n",
       "  )\n",
       ")"
      ]
     },
     "execution_count": 61,
     "metadata": {},
     "output_type": "execute_result"
    }
   ],
   "source": [
    "# initialize generator weights\n",
    "generator.apply(weights_init)"
   ]
  },
  {
   "cell_type": "code",
   "execution_count": 60,
   "id": "e0750dbc",
   "metadata": {},
   "outputs": [
    {
     "data": {
      "text/plain": [
       "Discriminator(\n",
       "  (main): Sequential(\n",
       "    (0): Conv2d(3, 64, kernel_size=(4, 4), stride=(2, 2), padding=(1, 1), bias=False)\n",
       "    (1): LeakyReLU(negative_slope=0.2, inplace=True)\n",
       "    (2): Conv2d(64, 128, kernel_size=(4, 4), stride=(2, 2), padding=(1, 1), bias=False)\n",
       "    (3): BatchNorm2d(128, eps=1e-05, momentum=0.1, affine=True, track_running_stats=True)\n",
       "    (4): LeakyReLU(negative_slope=0.2, inplace=True)\n",
       "    (5): Conv2d(128, 256, kernel_size=(4, 4), stride=(2, 2), padding=(1, 1), bias=False)\n",
       "    (6): BatchNorm2d(256, eps=1e-05, momentum=0.1, affine=True, track_running_stats=True)\n",
       "    (7): LeakyReLU(negative_slope=0.2, inplace=True)\n",
       "    (8): Conv2d(256, 512, kernel_size=(4, 4), stride=(2, 2), padding=(1, 1), bias=False)\n",
       "    (9): BatchNorm2d(512, eps=1e-05, momentum=0.1, affine=True, track_running_stats=True)\n",
       "    (10): LeakyReLU(negative_slope=0.2, inplace=True)\n",
       "    (11): Conv2d(512, 1, kernel_size=(4, 4), stride=(1, 1), bias=False)\n",
       "    (12): Sigmoid()\n",
       "  )\n",
       ")"
      ]
     },
     "execution_count": 60,
     "metadata": {},
     "output_type": "execute_result"
    }
   ],
   "source": [
    "# initialize discriminator weights\n",
    "discriminator.apply(weights_init)"
   ]
  },
  {
   "cell_type": "code",
   "execution_count": 62,
   "id": "83487a64",
   "metadata": {},
   "outputs": [],
   "source": [
    "# optimizers\n",
    "optim_g = optim.Adam(generator.parameters(), lr=lr, betas=(beta1, 0.999))\n",
    "optim_d = optim.Adam(discriminator.parameters(), lr=lr, betas=(beta1, 0.999))\n",
    "# loss function\n",
    "criterion = nn.BCELoss()"
   ]
  },
  {
   "cell_type": "code",
   "execution_count": 85,
   "id": "9f9a51da",
   "metadata": {},
   "outputs": [],
   "source": [
    "# function to train the discriminator network\n",
    "def train_discriminator(optimizer, data_real, data_fake):\n",
    "    b_size = data_real.size(0)\n",
    "    # get the real label vector\n",
    "    real_label = label_real(b_size).view(-1)\n",
    "    # get the fake label vector\n",
    "    fake_label = label_fake(b_size).view(-1)\n",
    "    optimizer.zero_grad()\n",
    "    # get the outputs by doing real data forward pass\n",
    "    output_real = discriminator(data_real).view(-1)\n",
    "    loss_real = criterion(output_real, real_label)\n",
    "    # get the outputs by doing fake data forward pass\n",
    "    output_fake = discriminator(data_fake).view(-1)\n",
    "    loss_fake = criterion(output_fake, fake_label)\n",
    "    # compute gradients of real loss \n",
    "    loss_real.backward()\n",
    "    # compute gradients of fake loss\n",
    "    loss_fake.backward()\n",
    "    # update discriminator parameters\n",
    "    optimizer.step()\n",
    "    return loss_real + loss_fake"
   ]
  },
  {
   "cell_type": "code",
   "execution_count": 90,
   "id": "977b513c",
   "metadata": {},
   "outputs": [],
   "source": [
    "# function to train the generator network\n",
    "def train_generator(optimizer, data_fake):\n",
    "    b_size = data_fake.size(0)\n",
    "    # get the real label vector\n",
    "    real_label = label_real(b_size).view(-1)\n",
    "    optimizer.zero_grad()\n",
    "    # output by doing a forward pass of the fake data through discriminator\n",
    "    output = discriminator(data_fake).view(-1)\n",
    "    loss = criterion(output, real_label)\n",
    "    # compute gradients of loss\n",
    "    loss.backward()\n",
    "    # update generator parameters\n",
    "    optimizer.step()\n",
    "    return loss "
   ]
  },
  {
   "cell_type": "code",
   "execution_count": 91,
   "id": "1cdaa2c8",
   "metadata": {},
   "outputs": [],
   "source": [
    "# create the noise vector\n",
    "noise = create_noise(sample_size, nz)"
   ]
  },
  {
   "cell_type": "code",
   "execution_count": 92,
   "id": "a15a9c44",
   "metadata": {},
   "outputs": [
    {
     "data": {
      "text/plain": [
       "Discriminator(\n",
       "  (main): Sequential(\n",
       "    (0): Conv2d(3, 64, kernel_size=(4, 4), stride=(2, 2), padding=(1, 1), bias=False)\n",
       "    (1): LeakyReLU(negative_slope=0.2, inplace=True)\n",
       "    (2): Conv2d(64, 128, kernel_size=(4, 4), stride=(2, 2), padding=(1, 1), bias=False)\n",
       "    (3): BatchNorm2d(128, eps=1e-05, momentum=0.1, affine=True, track_running_stats=True)\n",
       "    (4): LeakyReLU(negative_slope=0.2, inplace=True)\n",
       "    (5): Conv2d(128, 256, kernel_size=(4, 4), stride=(2, 2), padding=(1, 1), bias=False)\n",
       "    (6): BatchNorm2d(256, eps=1e-05, momentum=0.1, affine=True, track_running_stats=True)\n",
       "    (7): LeakyReLU(negative_slope=0.2, inplace=True)\n",
       "    (8): Conv2d(256, 512, kernel_size=(4, 4), stride=(2, 2), padding=(1, 1), bias=False)\n",
       "    (9): BatchNorm2d(512, eps=1e-05, momentum=0.1, affine=True, track_running_stats=True)\n",
       "    (10): LeakyReLU(negative_slope=0.2, inplace=True)\n",
       "    (11): Conv2d(512, 1, kernel_size=(4, 4), stride=(1, 1), bias=False)\n",
       "    (12): Sigmoid()\n",
       "  )\n",
       ")"
      ]
     },
     "execution_count": 92,
     "metadata": {},
     "output_type": "execute_result"
    }
   ],
   "source": [
    "generator.train()\n",
    "discriminator.train()"
   ]
  },
  {
   "cell_type": "code",
   "execution_count": 94,
   "id": "6517a0fa",
   "metadata": {
    "scrolled": false
   },
   "outputs": [
    {
     "name": "stderr",
     "output_type": "stream",
     "text": [
      "391it [01:21,  4.80it/s]                                                                                               \n",
      "  0%|▏                                                                                 | 1/390 [00:00<01:10,  5.55it/s]"
     ]
    },
    {
     "name": "stdout",
     "output_type": "stream",
     "text": [
      "Epoch 1 of 25\n",
      "Generator loss: 5.09278536, Discriminator loss: 0.51866537\n"
     ]
    },
    {
     "name": "stderr",
     "output_type": "stream",
     "text": [
      "391it [01:21,  4.77it/s]                                                                                               \n",
      "  0%|▏                                                                                 | 1/390 [00:00<01:10,  5.52it/s]"
     ]
    },
    {
     "name": "stdout",
     "output_type": "stream",
     "text": [
      "Epoch 2 of 25\n",
      "Generator loss: 3.61858130, Discriminator loss: 0.63183773\n"
     ]
    },
    {
     "name": "stderr",
     "output_type": "stream",
     "text": [
      "391it [01:22,  4.76it/s]                                                                                               \n",
      "  0%|▏                                                                                 | 1/390 [00:00<01:10,  5.49it/s]"
     ]
    },
    {
     "name": "stdout",
     "output_type": "stream",
     "text": [
      "Epoch 3 of 25\n",
      "Generator loss: 3.54395461, Discriminator loss: 0.65376455\n"
     ]
    },
    {
     "name": "stderr",
     "output_type": "stream",
     "text": [
      "391it [01:22,  4.75it/s]                                                                                               \n",
      "  0%|▏                                                                                 | 1/390 [00:00<01:11,  5.46it/s]"
     ]
    },
    {
     "name": "stdout",
     "output_type": "stream",
     "text": [
      "Epoch 4 of 25\n",
      "Generator loss: 3.19677973, Discriminator loss: 0.70859289\n"
     ]
    },
    {
     "name": "stderr",
     "output_type": "stream",
     "text": [
      "391it [01:22,  4.75it/s]                                                                                               \n",
      "  0%|▏                                                                                 | 1/390 [00:00<01:08,  5.65it/s]"
     ]
    },
    {
     "name": "stdout",
     "output_type": "stream",
     "text": [
      "Epoch 5 of 25\n",
      "Generator loss: 2.89019179, Discriminator loss: 0.74639940\n"
     ]
    },
    {
     "name": "stderr",
     "output_type": "stream",
     "text": [
      "391it [01:22,  4.75it/s]                                                                                               \n",
      "  0%|▏                                                                                 | 1/390 [00:00<01:10,  5.52it/s]"
     ]
    },
    {
     "name": "stdout",
     "output_type": "stream",
     "text": [
      "Epoch 6 of 25\n",
      "Generator loss: 3.08736467, Discriminator loss: 0.77687550\n"
     ]
    },
    {
     "name": "stderr",
     "output_type": "stream",
     "text": [
      "391it [01:22,  4.75it/s]                                                                                               \n",
      "  0%|▏                                                                                 | 1/390 [00:00<01:10,  5.55it/s]"
     ]
    },
    {
     "name": "stdout",
     "output_type": "stream",
     "text": [
      "Epoch 7 of 25\n",
      "Generator loss: 3.36090541, Discriminator loss: 0.66462058\n"
     ]
    },
    {
     "name": "stderr",
     "output_type": "stream",
     "text": [
      "391it [01:22,  4.75it/s]                                                                                               \n",
      "  0%|▏                                                                                 | 1/390 [00:00<01:12,  5.38it/s]"
     ]
    },
    {
     "name": "stdout",
     "output_type": "stream",
     "text": [
      "Epoch 8 of 25\n",
      "Generator loss: 3.18778014, Discriminator loss: 0.71602482\n"
     ]
    },
    {
     "name": "stderr",
     "output_type": "stream",
     "text": [
      "391it [01:22,  4.75it/s]                                                                                               \n",
      "  0%|▏                                                                                 | 1/390 [00:00<01:10,  5.55it/s]"
     ]
    },
    {
     "name": "stdout",
     "output_type": "stream",
     "text": [
      "Epoch 9 of 25\n",
      "Generator loss: 3.38874626, Discriminator loss: 0.62749571\n"
     ]
    },
    {
     "name": "stderr",
     "output_type": "stream",
     "text": [
      "391it [01:22,  4.75it/s]                                                                                               \n",
      "  0%|▏                                                                                 | 1/390 [00:00<01:11,  5.46it/s]"
     ]
    },
    {
     "name": "stdout",
     "output_type": "stream",
     "text": [
      "Epoch 10 of 25\n",
      "Generator loss: 3.17513180, Discriminator loss: 0.66224372\n"
     ]
    },
    {
     "name": "stderr",
     "output_type": "stream",
     "text": [
      "391it [01:22,  4.75it/s]                                                                                               \n",
      "  0%|▏                                                                                 | 1/390 [00:00<01:10,  5.49it/s]"
     ]
    },
    {
     "name": "stdout",
     "output_type": "stream",
     "text": [
      "Epoch 11 of 25\n",
      "Generator loss: 3.86841750, Discriminator loss: 0.45021152\n"
     ]
    },
    {
     "name": "stderr",
     "output_type": "stream",
     "text": [
      "391it [01:22,  4.75it/s]                                                                                               \n",
      "  0%|                                                                                          | 0/390 [00:00<?, ?it/s]Exception ignored in: <function _MultiProcessingDataLoaderIter.__del__ at 0x00000237536DC160>\n",
      "Traceback (most recent call last):\n",
      "  File \"C:\\Users\\eliot\\anaconda3\\lib\\site-packages\\torch\\utils\\data\\dataloader.py\", line 1466, in __del__\n",
      "    self._shutdown_workers()\n",
      "  File \"C:\\Users\\eliot\\anaconda3\\lib\\site-packages\\torch\\utils\\data\\dataloader.py\", line 1424, in _shutdown_workers\n",
      "    if self._persistent_workers or self._workers_status[worker_id]:\n",
      "AttributeError: '_MultiProcessingDataLoaderIter' object has no attribute '_workers_status'\n",
      "  0%|▏                                                                                 | 1/390 [00:00<01:15,  5.18it/s]"
     ]
    },
    {
     "name": "stdout",
     "output_type": "stream",
     "text": [
      "Epoch 12 of 25\n",
      "Generator loss: 4.27039576, Discriminator loss: 0.51702398\n"
     ]
    },
    {
     "name": "stderr",
     "output_type": "stream",
     "text": [
      "391it [01:22,  4.72it/s]                                                                                               \n",
      "  0%|▏                                                                                 | 1/390 [00:00<01:09,  5.62it/s]"
     ]
    },
    {
     "name": "stdout",
     "output_type": "stream",
     "text": [
      "Epoch 13 of 25\n",
      "Generator loss: 2.43097019, Discriminator loss: 0.85016352\n"
     ]
    },
    {
     "name": "stderr",
     "output_type": "stream",
     "text": [
      "391it [01:22,  4.73it/s]                                                                                               \n",
      "  0%|▏                                                                                 | 1/390 [00:00<01:11,  5.43it/s]"
     ]
    },
    {
     "name": "stdout",
     "output_type": "stream",
     "text": [
      "Epoch 14 of 25\n",
      "Generator loss: 3.02983809, Discriminator loss: 0.60665971\n"
     ]
    },
    {
     "name": "stderr",
     "output_type": "stream",
     "text": [
      "391it [01:22,  4.73it/s]                                                                                               \n",
      "  0%|▏                                                                                 | 1/390 [00:00<01:10,  5.49it/s]"
     ]
    },
    {
     "name": "stdout",
     "output_type": "stream",
     "text": [
      "Epoch 15 of 25\n",
      "Generator loss: 3.47736764, Discriminator loss: 0.49707797\n"
     ]
    },
    {
     "name": "stderr",
     "output_type": "stream",
     "text": [
      "391it [01:22,  4.73it/s]                                                                                               \n",
      "  0%|▏                                                                                 | 1/390 [00:00<01:11,  5.46it/s]"
     ]
    },
    {
     "name": "stdout",
     "output_type": "stream",
     "text": [
      "Epoch 16 of 25\n",
      "Generator loss: 4.43416548, Discriminator loss: 0.49226663\n"
     ]
    },
    {
     "name": "stderr",
     "output_type": "stream",
     "text": [
      "391it [01:22,  4.73it/s]                                                                                               \n",
      "  0%|▏                                                                                 | 1/390 [00:00<01:11,  5.43it/s]"
     ]
    },
    {
     "name": "stdout",
     "output_type": "stream",
     "text": [
      "Epoch 17 of 25\n",
      "Generator loss: 3.16855907, Discriminator loss: 0.66493511\n"
     ]
    },
    {
     "name": "stderr",
     "output_type": "stream",
     "text": [
      "391it [01:22,  4.73it/s]                                                                                               \n",
      "  0%|▏                                                                                 | 1/390 [00:00<01:11,  5.40it/s]"
     ]
    },
    {
     "name": "stdout",
     "output_type": "stream",
     "text": [
      "Epoch 18 of 25\n",
      "Generator loss: 3.68381572, Discriminator loss: 0.55576152\n"
     ]
    },
    {
     "name": "stderr",
     "output_type": "stream",
     "text": [
      "391it [01:22,  4.73it/s]                                                                                               \n",
      "  0%|▏                                                                                 | 1/390 [00:00<01:11,  5.43it/s]"
     ]
    },
    {
     "name": "stdout",
     "output_type": "stream",
     "text": [
      "Epoch 19 of 25\n",
      "Generator loss: 2.71678829, Discriminator loss: 0.71610463\n"
     ]
    },
    {
     "name": "stderr",
     "output_type": "stream",
     "text": [
      "391it [01:22,  4.73it/s]                                                                                               \n",
      "  0%|▏                                                                                 | 1/390 [00:00<01:10,  5.49it/s]"
     ]
    },
    {
     "name": "stdout",
     "output_type": "stream",
     "text": [
      "Epoch 20 of 25\n",
      "Generator loss: 2.84788918, Discriminator loss: 0.71596605\n"
     ]
    },
    {
     "name": "stderr",
     "output_type": "stream",
     "text": [
      "391it [01:22,  4.73it/s]                                                                                               \n",
      "  0%|▏                                                                                 | 1/390 [00:00<01:10,  5.49it/s]"
     ]
    },
    {
     "name": "stdout",
     "output_type": "stream",
     "text": [
      "Epoch 21 of 25\n",
      "Generator loss: 3.42394519, Discriminator loss: 0.60076219\n"
     ]
    },
    {
     "name": "stderr",
     "output_type": "stream",
     "text": [
      "391it [01:22,  4.73it/s]                                                                                               \n",
      "  0%|▏                                                                                 | 1/390 [00:00<01:10,  5.52it/s]"
     ]
    },
    {
     "name": "stdout",
     "output_type": "stream",
     "text": [
      "Epoch 22 of 25\n",
      "Generator loss: 3.09965873, Discriminator loss: 0.59715986\n"
     ]
    },
    {
     "name": "stderr",
     "output_type": "stream",
     "text": [
      "391it [01:22,  4.73it/s]                                                                                               \n",
      "  0%|▏                                                                                 | 1/390 [00:00<01:09,  5.59it/s]"
     ]
    },
    {
     "name": "stdout",
     "output_type": "stream",
     "text": [
      "Epoch 23 of 25\n",
      "Generator loss: 6.41938734, Discriminator loss: 0.01769442\n"
     ]
    },
    {
     "name": "stderr",
     "output_type": "stream",
     "text": [
      "391it [01:22,  4.73it/s]                                                                                               \n",
      "  0%|▏                                                                                 | 1/390 [00:00<01:12,  5.35it/s]"
     ]
    },
    {
     "name": "stdout",
     "output_type": "stream",
     "text": [
      "Epoch 24 of 25\n",
      "Generator loss: 7.63360405, Discriminator loss: 0.00384031\n"
     ]
    },
    {
     "name": "stderr",
     "output_type": "stream",
     "text": [
      "391it [01:22,  4.72it/s]                                                                                               \n"
     ]
    },
    {
     "name": "stdout",
     "output_type": "stream",
     "text": [
      "Epoch 25 of 25\n",
      "Generator loss: 9.34149742, Discriminator loss: 0.03800935\n"
     ]
    }
   ],
   "source": [
    "losses_g = [] # to store generator loss after each epoch\n",
    "losses_d = [] # to store discriminator loss after each epoch\n",
    "\n",
    "for epoch in range(epochs):\n",
    "    loss_g = 0.0\n",
    "    loss_d = 0.0\n",
    "    for bi, data in tqdm(enumerate(train_loader), total=int(len(train_data)/train_loader.batch_size)):\n",
    "        image, _ = data\n",
    "        image = image.to(device)\n",
    "        b_size = len(image)\n",
    "        # forward pass through generator to create fake data\n",
    "        data_fake = generator(create_noise(b_size, nz)).detach()\n",
    "        data_real = image\n",
    "        loss_d += train_discriminator(optim_d, data_real, data_fake)\n",
    "        data_fake = generator(create_noise(b_size, nz))\n",
    "        loss_g += train_generator(optim_g, data_fake)\n",
    "    # final forward pass through generator to create fake data...\n",
    "    # ...after training for current epoch\n",
    "    generated_img = generator(noise).cpu().detach()\n",
    "    # save the generated torch tensor models to disk\n",
    "    epoch_loss_g = loss_g / bi # total generator loss for the epoch\n",
    "    epoch_loss_d = loss_d / bi # total discriminator loss for the epoch\n",
    "    losses_g.append(epoch_loss_g)\n",
    "    losses_d.append(epoch_loss_d)\n",
    "    print(f\"Epoch {epoch+1} of {epochs}\")\n",
    "    print(f\"Generator loss: {epoch_loss_g:.8f}, Discriminator loss: {epoch_loss_d:.8f}\")"
   ]
  },
  {
   "cell_type": "code",
   "execution_count": 95,
   "id": "47327bad",
   "metadata": {},
   "outputs": [],
   "source": [
    "# save the model weights to disk\n",
    "torch.save(generator.state_dict(), 'generator1.pth')"
   ]
  },
  {
   "cell_type": "code",
   "execution_count": 113,
   "id": "9a755d15",
   "metadata": {},
   "outputs": [],
   "source": [
    "losses_g = [loss.cpu().detach().numpy() for loss in losses_g]\n",
    "losses_d = [loss.cpu().detach().numpy() for loss in losses_d]"
   ]
  },
  {
   "cell_type": "code",
   "execution_count": 114,
   "id": "47723dcf",
   "metadata": {},
   "outputs": [
    {
     "data": {
      "image/png": "[encoded data removed]",
      "text/plain": [
       "<Figure size 432x288 with 1 Axes>"
      ]
     },
     "metadata": {},
     "output_type": "display_data"
    }
   ],
   "source": [
    "# plot and save the generator and discriminator loss\n",
    "plt.figure()\n",
    "plt.plot(losses_g, label='Generator loss')\n",
    "plt.plot(losses_d, label='Discriminator Loss')\n",
    "plt.legend()\n",
    "plt.savefig('loss.png')\n",
    "plt.show()"
   ]
  },
  {
   "cell_type": "code",
   "execution_count": 115,
   "id": "9ae7efe7",
   "metadata": {},
   "outputs": [],
   "source": [
    "def imshow(img):\n",
    "    \"\"\"\n",
    "    Display a PyTorch tensor as an image using matplotlib\n",
    "    \"\"\"\n",
    "    # unnormalize the image \n",
    "    img = img / 2 + 0.5\n",
    "    npimg = img.numpy()\n",
    "    \n",
    "    # transpose numpy array from CxHxW to HxWxC format and display image \n",
    "    plt.imshow(np.transpose(npimg, (1, 2, 0)))\n",
    "    plt.show()"
   ]
  },
  {
   "cell_type": "code",
   "execution_count": 122,
   "id": "4c7682cc",
   "metadata": {},
   "outputs": [],
   "source": [
    "img = generator(noise).detach().cpu()\n",
    "images = img[:4]"
   ]
  },
  {
   "cell_type": "code",
   "execution_count": 123,
   "id": "d9cb51f9",
   "metadata": {},
   "outputs": [
    {
     "data": {
      "image/png": "[encoded data removed]",
      "text/plain": [
       "<Figure size 432x288 with 1 Axes>"
      ]
     },
     "metadata": {},
     "output_type": "display_data"
    }
   ],
   "source": [
    "# display the batch\n",
    "imshow(torchvision.utils.make_grid(images))"
   ]
  },
  {
   "cell_type": "code",
   "execution_count": null,
   "id": "b023a31d",
   "metadata": {},
   "outputs": [],
   "source": []
  }
 ],
 "metadata": {
  "kernelspec": {
   "display_name": "Python 3",
   "language": "python",
   "name": "python3"
  },
  "language_info": {
   "codemirror_mode": {
    "name": "ipython",
    "version": 3
   },
   "file_extension": ".py",
   "mimetype": "text/x-python",
   "name": "python",
   "nbconvert_exporter": "python",
   "pygments_lexer": "ipython3",
   "version": "3.8.8"
  }
 },
 "nbformat": 4,
 "nbformat_minor": 5
}
